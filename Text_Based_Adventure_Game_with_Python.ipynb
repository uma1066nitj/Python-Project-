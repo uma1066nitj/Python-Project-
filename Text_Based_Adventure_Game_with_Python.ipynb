{
  "nbformat": 4,
  "nbformat_minor": 0,
  "metadata": {
    "colab": {
      "name": "Text-Based Adventure Game with Python.ipynb",
      "provenance": [],
      "include_colab_link": true
    },
    "kernelspec": {
      "name": "python3",
      "display_name": "Python 3"
    },
    "language_info": {
      "name": "python"
    }
  },
  "cells": [
    {
      "cell_type": "markdown",
      "metadata": {
        "id": "view-in-github",
        "colab_type": "text"
      },
      "source": [
        "<a href=\"https://colab.research.google.com/github/uma1066nitj/Python-Project-/blob/main/Text_Based_Adventure_Game_with_Python.ipynb\" target=\"_parent\"><img src=\"https://colab.research.google.com/assets/colab-badge.svg\" alt=\"Open In Colab\"/></a>"
      ]
    },
    {
      "cell_type": "code",
      "metadata": {
        "colab": {
          "base_uri": "https://localhost:8080/"
        },
        "id": "DY3wAJZ86xN8",
        "outputId": "00cda9f6-76c0-4c5e-bca8-4d3582812fe5"
      },
      "source": [
        "def start_game(name):\n",
        "    print(\"=============================================Level 1===========================================================\")\n",
        "    print(f\"{name}, you are stuck at work\")\n",
        "    print(\"You are still working and suddenly you you saw a ghost, Now you have two options\")\n",
        "    print(\"1.Run.\\n2.Jump from the window\")\n",
        "    user = int(input(\"Choose 1 or 2: \"))\n",
        "    if user == 1:\n",
        "        print(\"You did it\")\n",
        "        print(\"===============================================Level 2=======================================================\")\n",
        "        print(\"Welcome to the Level 2 of the Game\")\n",
        "        print(f\"{name}, you are at home\")\n",
        "        print(\"You suddenly realise that at night someone is try to break your lock, Now you have two options\")\n",
        "        print(\"1.Face to Face talk.\\n2. Try to hide under bed.\")\n",
        "        user = int(input(\"Choose 1 or 2: \"))\n",
        "        if user == 1:\n",
        "            print(\"You did it\")\n",
        "            user = input(f\"{name}, Do you want to play the Game Again: \").upper()\n",
        "            if user == 'YES':\n",
        "                   print(f\"{name}, Once again, We are Begin to Start the Game\\n\")\n",
        "                   return start_game(name)\n",
        "            elif user == 'NO':\n",
        "                  print(\"Thank You for having such a time with you\")\n",
        "                  print(\"!!!!!!!!!!!!!!!!!!!!!!!!!!!!!!!!!!!!!!!! GAME OVER !!!!!!!!!!!!!!!!!!!!!!!!!!!!!!!!!!!!!!!!!!!!!!!!!!!!\")\n",
        "        elif user == 2:\n",
        "            print(\"You are not brave enough\")     \n",
        "            print(\"You have to think smart\")\n",
        "            user = input(f\"{name}, Do you want to play the Game Again: \\n\").upper()\n",
        "            if user == 'YES':\n",
        "                  print(f\"{name}, Once again, We are Begin to Start the Game\\n\")\n",
        "                  return start_game(name)\n",
        "            elif user == 'NO':\n",
        "                  print(\"Thank You for having such a time with you\")\n",
        "                  print(\"!!!!!!!!!!!!!!!!!!!!!!!!!!!!!!!!!!!!!!!! GAME OVER !!!!!!!!!!!!!!!!!!!!!!!!!!!!!!!!!!!!!!!!!!!!!!!!!!!!\")\n",
        "        else:\n",
        "            print(\"Please check your Input\")\n",
        "    elif user == 2:\n",
        "        print(\"You are not that smart\")\n",
        "        print(\"You have to complete Level 1 First\")\n",
        "        user = input(f\"{name}, Do you want to play the Game Again: \").upper()\n",
        "        if user == 'YES':\n",
        "               print(f\"{name} Once again, We are Begin to Start the Game\")\n",
        "               return start_game(name)\n",
        "        elif user == 'NO':\n",
        "               print(\"Thank You for having such a time with you\")\n",
        "               print(\"!!!!!!!!!!!!!!!!!!!!!!!!!!!!!!!!!!!!!!!! GAME OVER !!!!!!!!!!!!!!!!!!!!!!!!!!!!!!!!!!!!!!!!!!!!!!!!!!!!\")\n",
        "    else:\n",
        "        print(\"Please Check your input\")\n",
        "        user = input(f\"{name}, Do you want to play the Game Again: \").upper()\n",
        "        if user == 'YES':\n",
        "               print(f\"{name} Once again, We are Begin to Start the Game\")\n",
        "               return start_game(name)\n",
        "        elif user == 'NO':\n",
        "               print(\"Thank You for having such a time with you\")\n",
        "               print(\"!!!!!!!!!!!!!!!!!!!!!!!!!!!!!!!!!!!!!!!! GAME OVER !!!!!!!!!!!!!!!!!!!!!!!!!!!!!!!!!!!!!!!!!!!!!!!!!!!!\")\n",
        " \n",
        "print(\"Game starts Now, Do you want to participate\")\n",
        "name = str(input(\"Enter Your Name: \"))\n",
        "game_begin = start_game(name)"
      ],
      "execution_count": null,
      "outputs": [
        {
          "output_type": "stream",
          "text": [
            "Game starts Now, Do you want to participate\n",
            "Enter Your Name: pankaj kumar\n",
            "=============================================Level 1===========================================================\n",
            "pankaj kumar, you are stuck at work\n",
            "You are still working and suddenly you you saw a ghost, Now you have two options\n",
            "1.Run.\n",
            "2.Jump from the window\n",
            "Choose 1 or 2: 1\n",
            "You did it\n",
            "===============================================Level 2=======================================================\n",
            "Welcome to the Level 2 of the Game\n",
            "pankaj kumar, you are at home\n",
            "You suddenly realise that at night someone is try to break your lock, Now you have two options\n",
            "1.Face to Face talk.\n",
            "2. Try to hide under bed.\n",
            "Choose 1 or 2: 1\n",
            "You did it\n",
            "pankaj kumar, Do you want to play the Game Again: no\n",
            "Thank You for having such a time with you\n",
            "!!!!!!!!!!!!!!!!!!!!!!!!!!!!!!!!!!!!!!!! GAME OVER !!!!!!!!!!!!!!!!!!!!!!!!!!!!!!!!!!!!!!!!!!!!!!!!!!!!\n"
          ],
          "name": "stdout"
        }
      ]
    }
  ]
}